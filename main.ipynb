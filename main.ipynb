{
 "cells": [
  {
   "cell_type": "code",
   "execution_count": 3,
   "metadata": {},
   "outputs": [
    {
     "name": "stdout",
     "output_type": "stream",
     "text": [
      "Happiest hour: 2\n",
      "Happiest day: 2021-06-21\n",
      "Most active hour: 1\n",
      "Most active day: 2021-06-21\n"
     ]
    }
   ],
   "source": [
    "import json\n",
    "import pandas as pd\n",
    "\n",
    "# Load the JSON data\n",
    "with open('data/twitter-50mb.json') as f:\n",
    "    data = json.load(f)\n",
    "\n",
    "# Extract relevant fields and calculate sentiment scores\n",
    "tweets = []\n",
    "for tweet in data['rows']:\n",
    "    if 'doc' not in tweet:\n",
    "        continue\n",
    "    if 'sentiment' not in tweet['doc']['data']:\n",
    "        continue\n",
    "    created_at = tweet['doc']['data']['created_at']\n",
    "    sentiment_score = tweet['doc']['data']['sentiment']\n",
    "    if isinstance(sentiment_score, dict):\n",
    "        sentiment_score = sentiment_score['score']\n",
    "    tweets.append({'created_at': created_at, 'sentiment_score': sentiment_score})\n",
    "\n",
    "tweets_df = pd.DataFrame(tweets)\n",
    "tweets_df['created_at'] = pd.to_datetime(tweets_df['created_at'])\n",
    "\n",
    "tweets_df['hour'] = tweets_df['created_at'].dt.hour\n",
    "tweets_df['day'] = tweets_df['created_at'].dt.date\n",
    "\n",
    "happiest_hour = tweets_df.groupby('hour')['sentiment_score'].sum().idxmax()\n",
    "happiest_day = tweets_df.groupby('day')['sentiment_score'].sum().idxmax()\n",
    "most_active_hour = tweets_df['hour'].value_counts().idxmax()\n",
    "most_active_day = tweets_df['day'].value_counts().idxmax()\n",
    "\n",
    "\n",
    "print(f\"Happiest hour: {happiest_hour}\")\n",
    "print(f\"Happiest day: {happiest_day}\")\n",
    "print(f\"Most active hour: {most_active_hour}\")\n",
    "print(f\"Most active day: {most_active_day}\")\n",
    "\n"
   ]
  }
 ],
 "metadata": {
  "kernelspec": {
   "display_name": "nlp",
   "language": "python",
   "name": "python3"
  },
  "language_info": {
   "codemirror_mode": {
    "name": "ipython",
    "version": 3
   },
   "file_extension": ".py",
   "mimetype": "text/x-python",
   "name": "python",
   "nbconvert_exporter": "python",
   "pygments_lexer": "ipython3",
   "version": "3.8.18"
  }
 },
 "nbformat": 4,
 "nbformat_minor": 2
}
