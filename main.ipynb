{
 "cells": [
  {
   "cell_type": "code",
   "execution_count": 5,
   "metadata": {},
   "outputs": [
    {
     "name": "stdout",
     "output_type": "stream",
     "text": [
      "Happiest hour: 2.0\n",
      "Happiest day: 2021-06-21\n",
      "Most active hour: 1.0\n",
      "Most active day: 2021-06-21\n"
     ]
    }
   ],
   "source": [
    "import json\n",
    "import pandas as pd\n",
    "\n",
    "# Load the JSON data\n",
    "with open('data/twitter-50mb.json') as f:\n",
    "    data = json.load(f)\n",
    "    \n",
    "df = pd.json_normalize(data['rows'])\n",
    "\n",
    "tweets_df = pd.DataFrame()\n",
    "tweets_df['created_at'] = pd.to_datetime(df['doc.data.created_at'])\n",
    "tweets_df['sentiment_score'] = df['doc.data.sentiment'] \n",
    "\n",
    "tweets_df['hour'] = tweets_df['created_at'].dt.hour\n",
    "tweets_df['day'] = tweets_df['created_at'].dt.date\n",
    "\n",
    "happiest_hour = tweets_df.groupby('hour')['sentiment_score'].sum().idxmax()\n",
    "happiest_day = tweets_df.groupby('day')['sentiment_score'].sum().idxmax()\n",
    "most_active_hour = tweets_df['hour'].value_counts().idxmax()\n",
    "most_active_day = tweets_df['day'].value_counts().idxmax()\n",
    "\n",
    "\n",
    "print(f\"Happiest hour: {happiest_hour}\")\n",
    "print(f\"Happiest day: {happiest_day}\")\n",
    "print(f\"Most active hour: {most_active_hour}\")\n",
    "print(f\"Most active day: {most_active_day}\")\n",
    "\n"
   ]
  }
 ],
 "metadata": {
  "kernelspec": {
   "display_name": "nlp",
   "language": "python",
   "name": "python3"
  },
  "language_info": {
   "codemirror_mode": {
    "name": "ipython",
    "version": 3
   },
   "file_extension": ".py",
   "mimetype": "text/x-python",
   "name": "python",
   "nbconvert_exporter": "python",
   "pygments_lexer": "ipython3",
   "version": "3.8.18"
  }
 },
 "nbformat": 4,
 "nbformat_minor": 2
}
