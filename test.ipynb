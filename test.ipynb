{
 "cells": [
  {
   "cell_type": "code",
   "execution_count": null,
   "metadata": {},
   "outputs": [],
   "source": [
    "import json\n",
    "import pandas as pd\n",
    "from pandas.io.json import json_normalize"
   ]
  },
  {
   "cell_type": "code",
   "execution_count": 2,
   "metadata": {},
   "outputs": [],
   "source": [
    "def convert_to_12h_format(hour):\n",
    "    if hour == 0 or hour == 24:\n",
    "        return \"am\"\n",
    "    elif hour == 12:\n",
    "        return \"pm\"\n",
    "    elif hour < 12:\n",
    "        return f\"am\"\n",
    "    else:\n",
    "        return f\"PM\""
   ]
  },
  {
   "cell_type": "code",
   "execution_count": 3,
   "metadata": {},
   "outputs": [],
   "source": [
    "#tweets_df.head(10)\n",
    "#tweets_df.describe()\n",
    "#print(tweets_df.columns)\n",
    "#print(tweets_df['doc.data.sentiment'].head(10))"
   ]
  },
  {
   "cell_type": "code",
   "execution_count": 4,
   "metadata": {},
   "outputs": [
    {
     "name": "stdout",
     "output_type": "stream",
     "text": [
      "• the happiest hour ever: 2-3am with an overall sentiment score of 466.55\n",
      "• the happiest day ever: 21th June of 2021 was the happiest day with an overall sentiment score of 3101.79\n",
      "• the most active hour ever: 1-2am on 21th June of 2021 had the most tweets (#9159)\n",
      "• the most active day ever: 21th June of 2021 had the most tweets (#49999)\n"
     ]
    }
   ],
   "source": [
    "# Load the JSON data\n",
    "with open('data/twitter-50mb.json') as f:\n",
    "    data = json.load(f)\n",
    "    tweets_df = pd.json_normalize(data['rows'])\n",
    "\n",
    "    tweets_df['doc.data.created_at'] = pd.to_datetime(tweets_df['doc.data.created_at'])\n",
    "\n",
    "\n",
    "    tweets_df['hour'] = tweets_df['doc.data.created_at'].dt.hour\n",
    "    tweets_df['day'] = tweets_df['doc.data.created_at'].dt.date\n",
    "    \n",
    "    #happiest hour\n",
    "    happiest_hour = tweets_df.groupby('hour')['doc.data.sentiment'].sum().idxmax()\n",
    "    happiest_hour = int(happiest_hour)\n",
    "    hourly_sentiment_sums = tweets_df.groupby('hour')['doc.data.sentiment'].sum()\n",
    "    happiest_hour_sum = hourly_sentiment_sums[happiest_hour]\n",
    "    \n",
    "    #happiest day\n",
    "    happiest_day = tweets_df.groupby('day')['doc.data.sentiment'].sum().idxmax()\n",
    "    happiest_day_f = happiest_day.strftime(f\"%dth %B of %Y\")\n",
    "    daily_sentiment_sums = tweets_df.groupby('day')['doc.data.sentiment'].sum()\n",
    "    happiest_day_sum = daily_sentiment_sums[happiest_day]\n",
    "    \n",
    "    #most active hour ever\n",
    "    #先将数据按照day分开，找到每天最活跃的hour并且记录value counts，然后每天最活跃的hour value counts进行比较，\n",
    "    #选出最active hour ever并且输出hour，date，和相应的value count\n",
    "    # 分组以天和小时为单位，并计算每组的推文数量\n",
    "    counts_per_day_hour = tweets_df.groupby(['day', 'hour']).size().reset_index(name='counts')\n",
    "    # 分离日期和小时, 每天最活跃的小时及其推文数量\n",
    "    max_counts_per_day = counts_per_day_hour.loc[counts_per_day_hour.groupby('day')['counts'].idxmax()]\n",
    "    # 找到所有天中最活跃的小时\n",
    "    most_active_record = max_counts_per_day.loc[max_counts_per_day['counts'].idxmax()]\n",
    "    most_active_hour = int(most_active_record['hour'])\n",
    "    co_day = most_active_record['day']\n",
    "    co_day_f = co_day.strftime(f\"%dth %B of %Y\")\n",
    "    most_active_count = most_active_record['counts']\n",
    "    \n",
    "    \n",
    "    #most active day ever\n",
    "    most_active_day = tweets_df['day'].value_counts().idxmax()\n",
    "    most_active_day_count = tweets_df['day'].value_counts()[most_active_day]\n",
    "    most_active_day = most_active_day.strftime(f\"%dth %B of %Y\")\n",
    "\n",
    "\n",
    "    print(f\"• the happiest hour ever: {happiest_hour}-\" + \n",
    "      f\"{(happiest_hour + 1) % 24}{convert_to_12h_format(happiest_hour+1)} with an overall sentiment score of {happiest_hour_sum:.2f}\")\n",
    "\n",
    "\n",
    "    print(f\"• the happiest day ever: {happiest_day_f} was the happiest day with an overall sentiment score of {happiest_day_sum:.2f}\")\n",
    "\n",
    "    print(f\"• the most active hour ever: {most_active_hour}-\" + \n",
    "      f\"{(most_active_hour + 1) % 24}{convert_to_12h_format(most_active_hour+1)} on {co_day_f} had the most tweets (#{most_active_count})\")  # Replace '...' with the number of tweets if available\n",
    "\n",
    "    print(f\"• the most active day ever: {most_active_day} had the most tweets (#{most_active_day_count})\")\n"
   ]
  }
 ],
 "metadata": {
  "kernelspec": {
   "display_name": "Python 3 (ipykernel)",
   "language": "python",
   "name": "python3"
  },
  "language_info": {
   "codemirror_mode": {
    "name": "ipython",
    "version": 3
   },
   "file_extension": ".py",
   "mimetype": "text/x-python",
   "name": "python",
   "nbconvert_exporter": "python",
   "pygments_lexer": "ipython3",
   "version": "3.8.18"
  }
 },
 "nbformat": 4,
 "nbformat_minor": 2
}
